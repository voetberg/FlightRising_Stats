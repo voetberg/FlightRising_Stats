{
 "cells": [
  {
   "cell_type": "code",
   "execution_count": 1,
   "metadata": {},
   "outputs": [],
   "source": [
    "#import statements \n",
    "import numpy as np \n",
    "import pandas as pd \n",
    "import matplotlib.pyplot as plt\n",
    "%matplotlib inline\n",
    "\n",
    "plt.style.use('ggplot')"
   ]
  },
  {
   "cell_type": "code",
   "execution_count": 2,
   "metadata": {},
   "outputs": [],
   "source": [
    "pop_raw = pd.read_csv('./data/Flight Population Tracking 3.0 - Population Data.csv')\n",
    "dom_raw = pd.read_csv('./data/Flight Population Tracking 3.0 - Dom Data V2.csv')"
   ]
  },
  {
   "cell_type": "code",
   "execution_count": 11,
   "metadata": {},
   "outputs": [
    {
     "data": {
      "text/html": [
       "<div>\n",
       "<style scoped>\n",
       "    .dataframe tbody tr th:only-of-type {\n",
       "        vertical-align: middle;\n",
       "    }\n",
       "\n",
       "    .dataframe tbody tr th {\n",
       "        vertical-align: top;\n",
       "    }\n",
       "\n",
       "    .dataframe thead th {\n",
       "        text-align: right;\n",
       "    }\n",
       "</style>\n",
       "<table border=\"1\" class=\"dataframe\">\n",
       "  <thead>\n",
       "    <tr style=\"text-align: right;\">\n",
       "      <th></th>\n",
       "      <th>Date</th>\n",
       "      <th>Earth</th>\n",
       "      <th>Plague</th>\n",
       "      <th>Wind</th>\n",
       "      <th>Water</th>\n",
       "      <th>Lightning</th>\n",
       "      <th>Ice</th>\n",
       "      <th>Shadow</th>\n",
       "      <th>Light</th>\n",
       "      <th>Arcane</th>\n",
       "      <th>Nature</th>\n",
       "      <th>Fire</th>\n",
       "    </tr>\n",
       "  </thead>\n",
       "  <tbody>\n",
       "    <tr>\n",
       "      <th>0</th>\n",
       "      <td>6/8/2013</td>\n",
       "      <td>30.0</td>\n",
       "      <td>80.0</td>\n",
       "      <td>169.0</td>\n",
       "      <td>57.0</td>\n",
       "      <td>85.0</td>\n",
       "      <td>72.0</td>\n",
       "      <td>126.0</td>\n",
       "      <td>91.0</td>\n",
       "      <td>115.0</td>\n",
       "      <td>95.0</td>\n",
       "      <td>59.0</td>\n",
       "    </tr>\n",
       "    <tr>\n",
       "      <th>1</th>\n",
       "      <td>6/19/2013</td>\n",
       "      <td>464.0</td>\n",
       "      <td>1295.0</td>\n",
       "      <td>1470.0</td>\n",
       "      <td>796.0</td>\n",
       "      <td>1333.0</td>\n",
       "      <td>796.0</td>\n",
       "      <td>1485.0</td>\n",
       "      <td>1000.0</td>\n",
       "      <td>1548.0</td>\n",
       "      <td>1220.0</td>\n",
       "      <td>841.0</td>\n",
       "    </tr>\n",
       "    <tr>\n",
       "      <th>2</th>\n",
       "      <td>7/9/2013</td>\n",
       "      <td>803.0</td>\n",
       "      <td>2421.0</td>\n",
       "      <td>3302.0</td>\n",
       "      <td>1509.0</td>\n",
       "      <td>2429.0</td>\n",
       "      <td>1663.0</td>\n",
       "      <td>2092.0</td>\n",
       "      <td>1761.0</td>\n",
       "      <td>2903.0</td>\n",
       "      <td>2229.0</td>\n",
       "      <td>1576.0</td>\n",
       "    </tr>\n",
       "    <tr>\n",
       "      <th>3</th>\n",
       "      <td>7/14/2013</td>\n",
       "      <td>887.0</td>\n",
       "      <td>2737.0</td>\n",
       "      <td>3740.0</td>\n",
       "      <td>1701.0</td>\n",
       "      <td>2726.0</td>\n",
       "      <td>1934.0</td>\n",
       "      <td>3299.0</td>\n",
       "      <td>1984.0</td>\n",
       "      <td>3273.0</td>\n",
       "      <td>2486.0</td>\n",
       "      <td>1763.0</td>\n",
       "    </tr>\n",
       "    <tr>\n",
       "      <th>4</th>\n",
       "      <td>9/13/2013</td>\n",
       "      <td>1080.0</td>\n",
       "      <td>3448.0</td>\n",
       "      <td>4732.0</td>\n",
       "      <td>2205.0</td>\n",
       "      <td>3513.0</td>\n",
       "      <td>2600.0</td>\n",
       "      <td>4223.0</td>\n",
       "      <td>2581.0</td>\n",
       "      <td>4207.0</td>\n",
       "      <td>3205.0</td>\n",
       "      <td>2203.0</td>\n",
       "    </tr>\n",
       "  </tbody>\n",
       "</table>\n",
       "</div>"
      ],
      "text/plain": [
       "        Date   Earth  Plague    Wind   Water  Lightning     Ice  Shadow  \\\n",
       "0   6/8/2013    30.0    80.0   169.0    57.0       85.0    72.0   126.0   \n",
       "1  6/19/2013   464.0  1295.0  1470.0   796.0     1333.0   796.0  1485.0   \n",
       "2   7/9/2013   803.0  2421.0  3302.0  1509.0     2429.0  1663.0  2092.0   \n",
       "3  7/14/2013   887.0  2737.0  3740.0  1701.0     2726.0  1934.0  3299.0   \n",
       "4  9/13/2013  1080.0  3448.0  4732.0  2205.0     3513.0  2600.0  4223.0   \n",
       "\n",
       "    Light  Arcane  Nature    Fire  \n",
       "0    91.0   115.0    95.0    59.0  \n",
       "1  1000.0  1548.0  1220.0   841.0  \n",
       "2  1761.0  2903.0  2229.0  1576.0  \n",
       "3  1984.0  3273.0  2486.0  1763.0  \n",
       "4  2581.0  4207.0  3205.0  2203.0  "
      ]
     },
     "execution_count": 11,
     "metadata": {},
     "output_type": "execute_result"
    }
   ],
   "source": [
    "##Basic cleaning\n",
    "flight_pop = pop_raw.iloc[:,0:12].dropna()\n",
    "flight_pop.head()"
   ]
  },
  {
   "cell_type": "code",
   "execution_count": 15,
   "metadata": {},
   "outputs": [
    {
     "data": {
      "text/plain": [
       "<matplotlib.collections.PathCollection at 0x18adfe6d630>"
      ]
     },
     "execution_count": 15,
     "metadata": {},
     "output_type": "execute_result"
    },
    {
     "data": {
      "image/png": "[encoded data removed]",
      "text/plain": [
       "<Figure size 432x288 with 1 Axes>"
      ]
     },
     "metadata": {
      "needs_background": "light"
     },
     "output_type": "display_data"
    }
   ],
   "source": [
    "plt.scatter(np.array(flight_pop.loc[:,'Date']),np.array(flight_pop.loc[:,'Earth'])) ##Just checking that this Works"
   ]
  },
  {
   "cell_type": "code",
   "execution_count": 21,
   "metadata": {},
   "outputs": [
    {
     "data": {
      "text/plain": [
       "<matplotlib.axes._subplots.AxesSubplot at 0x18ae12af6d8>"
      ]
     },
     "execution_count": 21,
     "metadata": {},
     "output_type": "execute_result"
    },
    {
     "data": {
      "image/png": "[encoded data removed]",
      "text/plain": [
       "<Figure size 432x288 with 1 Axes>"
      ]
     },
     "metadata": {
      "needs_background": "light"
     },
     "output_type": "display_data"
    }
   ],
   "source": [
    "current_pop = flight_pop.iloc[-1,1:-1]\n",
    "current_pop.plot.bar() ##Need to set to flight colors "
   ]
  },
  {
   "cell_type": "code",
   "execution_count": null,
   "metadata": {},
   "outputs": [],
   "source": []
  }
 ],
 "metadata": {
  "kernelspec": {
   "display_name": "Python 3",
   "language": "python",
   "name": "python3"
  },
  "language_info": {
   "codemirror_mode": {
    "name": "ipython",
    "version": 3
   },
   "file_extension": ".py",
   "mimetype": "text/x-python",
   "name": "python",
   "nbconvert_exporter": "python",
   "pygments_lexer": "ipython3",
   "version": "3.7.1"
  }
 },
 "nbformat": 4,
 "nbformat_minor": 2
}
